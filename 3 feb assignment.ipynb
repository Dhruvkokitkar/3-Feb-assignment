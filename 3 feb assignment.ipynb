{
 "cells": [
  {
   "cell_type": "code",
   "execution_count": 10,
   "id": "3ca248ae-e786-45ae-a963-c24c00df7d37",
   "metadata": {},
   "outputs": [
    {
     "name": "stdout",
     "output_type": "stream",
     "text": [
      "1 3 5 7 9 11 13 15 17 19 "
     ]
    }
   ],
   "source": [
    "#1\n",
    "list1 = [1,2,3,4,5,6,7,8,9,10,11,12,13,14,15,16,17,18,19,20]\n",
    "i = 0\n",
    "\n",
    "while(i < len(list1)):\n",
    "    if list1[i] % 2 != 0:\n",
    "        print(list1[i], end=\" \")\n",
    "    i += 1"
   ]
  },
  {
   "cell_type": "code",
   "execution_count": 23,
   "id": "1787bee0-969e-4791-8ad0-e3c2ef52ac7c",
   "metadata": {},
   "outputs": [
    {
     "data": {
      "text/plain": [
       "' 2\\n*args is used for passing multiple arguments even if they are not given in the parameters, *args output is always a tuple                                     \\n*kwargs is called keyword arguments, * defines a key and value, **kwargs output is always a dictionary\\n'"
      ]
     },
     "execution_count": 23,
     "metadata": {},
     "output_type": "execute_result"
    }
   ],
   "source": [
    "''' 2\n",
    "*args is used for passing multiple arguments even if they are not given in the parameters, *args output is always a tuple                                     \n",
    "*kwargs is called keyword arguments, * defines a key and value, **kwargs output is always a dictionary\n",
    "'''"
   ]
  },
  {
   "cell_type": "code",
   "execution_count": null,
   "id": "3116cb14-04a2-44aa-8c3f-c09c3f0f50e8",
   "metadata": {},
   "outputs": [],
   "source": [
    "''' 3\n",
    "An iterator is an object that contains a countable number of values. An iterator is an object that can be iterated upon, \n",
    "meaning that you can traverse through all the values. Technically, in Python, an iterator is an object which implements the iterator protocol,\n",
    "which consist of the methods _iter() and __next_() .'''"
   ]
  },
  {
   "cell_type": "code",
   "execution_count": 5,
   "id": "9db63a82-ad2e-4558-ba3d-e250a26ada6f",
   "metadata": {},
   "outputs": [],
   "source": [
    "#4 a generator is a function that returns an iterator that produces a sequence of values when iterated over.\n",
    "def generator_func(n):\n",
    "    count = 1\n",
    "    while count <=n :\n",
    "        yield count\n",
    "        count = count + 1"
   ]
  },
  {
   "cell_type": "code",
   "execution_count": 6,
   "id": "b3056862-8fb8-45d3-a8df-0a049bd6fe76",
   "metadata": {},
   "outputs": [],
   "source": [
    "#4\n",
    "c = generator_func(5)"
   ]
  },
  {
   "cell_type": "code",
   "execution_count": 7,
   "id": "53a5fe28-33fe-45aa-85f7-4ce05b2d7a2b",
   "metadata": {},
   "outputs": [
    {
     "name": "stdout",
     "output_type": "stream",
     "text": [
      "1\n",
      "2\n",
      "3\n",
      "4\n",
      "5\n"
     ]
    }
   ],
   "source": [
    "#4\n",
    "for i in c:\n",
    "    print(i)"
   ]
  },
  {
   "cell_type": "code",
   "execution_count": 8,
   "id": "3029c137-2f31-4fcc-8136-b8fcfa71e199",
   "metadata": {},
   "outputs": [
    {
     "data": {
      "text/plain": [
       "generator"
      ]
     },
     "execution_count": 8,
     "metadata": {},
     "output_type": "execute_result"
    }
   ],
   "source": [
    "#4\n",
    "type(c)"
   ]
  },
  {
   "cell_type": "code",
   "execution_count": 25,
   "id": "43c907e8-2572-459d-bbe6-24bd9bdd8703",
   "metadata": {},
   "outputs": [
    {
     "name": "stdout",
     "output_type": "stream",
     "text": [
      "Prime numbers 1000 and 900 are:\n",
      "907\n",
      "911\n",
      "919\n",
      "929\n",
      "937\n",
      "941\n",
      "947\n",
      "953\n",
      "967\n",
      "971\n",
      "977\n",
      "983\n",
      "991\n",
      "997\n"
     ]
    }
   ],
   "source": [
    "#5\n",
    "a = 900\n",
    "b = 1000\n",
    "\n",
    "print(\"Prime numbers\", b, \"and\", a, \"are:\")\n",
    "\n",
    "for num in range(a, b + 1):\n",
    "   if num > 1:\n",
    "       for i in range(2, num):\n",
    "           if (num % i) == 0:\n",
    "               break\n",
    "       else:\n",
    "           print(num)"
   ]
  },
  {
   "cell_type": "code",
   "execution_count": 3,
   "id": "1be4a94e-4ed7-4076-b25a-42a6ef995589",
   "metadata": {},
   "outputs": [
    {
     "name": "stdin",
     "output_type": "stream",
     "text": [
      "Enter the number of element you are looking for  10\n"
     ]
    },
    {
     "name": "stdout",
     "output_type": "stream",
     "text": [
      "0\n",
      "1\n",
      "1\n",
      "2\n",
      "3\n",
      "5\n",
      "8\n",
      "13\n",
      "21\n",
      "34\n"
     ]
    }
   ],
   "source": [
    "#6\n",
    "number = int(input(\"Enter the number of element you are looking for \"))\n",
    "a , b = 0 , 1\n",
    "counter = 0\n",
    "while counter < number :\n",
    "    print(a)\n",
    "    c = a+b\n",
    "    a = b\n",
    "    b = c\n",
    "    counter = counter + 1"
   ]
  },
  {
   "cell_type": "code",
   "execution_count": 17,
   "id": "3f8459a8-76a1-4278-855a-f66be530718b",
   "metadata": {},
   "outputs": [],
   "source": [
    "#7\n",
    "s = \"pwskills\""
   ]
  },
  {
   "cell_type": "code",
   "execution_count": 21,
   "id": "0b64309f-d319-4a9d-8529-f1d5db81848c",
   "metadata": {},
   "outputs": [
    {
     "data": {
      "text/plain": [
       "list['pwskills']"
      ]
     },
     "execution_count": 21,
     "metadata": {},
     "output_type": "execute_result"
    }
   ],
   "source": [
    "#7\n",
    "list[s]"
   ]
  },
  {
   "cell_type": "code",
   "execution_count": 22,
   "id": "35b1aa37-4c47-47b6-a2bd-52474d030d9a",
   "metadata": {},
   "outputs": [
    {
     "name": "stdout",
     "output_type": "stream",
     "text": [
      "['p', 'w', 's', 'k', 'i', 'l', 'l', 's']\n"
     ]
    }
   ],
   "source": [
    "#7\n",
    "string = []\n",
    "\n",
    "for letter in 'pwskills':\n",
    "    string.append(letter)\n",
    "\n",
    "print(string)"
   ]
  },
  {
   "cell_type": "code",
   "execution_count": null,
   "id": "65996481-58d0-4f60-b8e9-1201dc712fa6",
   "metadata": {},
   "outputs": [],
   "source": []
  }
 ],
 "metadata": {
  "kernelspec": {
   "display_name": "Python 3 (ipykernel)",
   "language": "python",
   "name": "python3"
  },
  "language_info": {
   "codemirror_mode": {
    "name": "ipython",
    "version": 3
   },
   "file_extension": ".py",
   "mimetype": "text/x-python",
   "name": "python",
   "nbconvert_exporter": "python",
   "pygments_lexer": "ipython3",
   "version": "3.10.8"
  }
 },
 "nbformat": 4,
 "nbformat_minor": 5
}
